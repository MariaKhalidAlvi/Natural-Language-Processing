{
 "cells": [
  {
   "cell_type": "code",
   "execution_count": 1,
   "metadata": {
    "scrolled": true
   },
   "outputs": [],
   "source": [
    "#libraries to be used \n",
    "\n",
    "import numpy as np\n",
    "import pandas as pd\n",
    "import os\n",
    "\n",
    "# for Preprocessing and word to vector feature vector\n",
    "import nltk\n",
    "from nltk.corpus import stopwords   \n",
    "from gensim.models import Word2Vec, word2vec\n",
    "\n",
    "\n",
    "#Import svm model\n",
    "from sklearn import svm\n",
    "\n",
    "#import matric to calculate\n",
    "from sklearn import metrics\n",
    "from sklearn.metrics import classification_report, confusion_matrix, roc_auc_score, roc_curve , f1_score\n",
    "from sklearn.pipeline import Pipeline\n",
    "\n",
    "#for parsing\n",
    "import re\n",
    "import string\n",
    "\n",
    "# for graphs\n",
    "import seaborn as sns\n",
    "import matplotlib.pyplot as plt\n",
    "%matplotlib inline\n",
    "\n",
    "import warnings\n",
    "warnings.filterwarnings(\"ignore\")"
   ]
  },
  {
   "cell_type": "code",
   "execution_count": 2,
   "metadata": {},
   "outputs": [],
   "source": [
    "#import data\n",
    "df = pd.read_csv(\"dataset/SQLIA_Dataset.csv\" )"
   ]
  },
  {
   "cell_type": "code",
   "execution_count": 3,
   "metadata": {},
   "outputs": [],
   "source": [
    "# # balance dataset\n",
    "# df =dataframe.iloc[:22912]"
   ]
  },
  {
   "cell_type": "code",
   "execution_count": 4,
   "metadata": {},
   "outputs": [
    {
     "data": {
      "text/plain": [
       "1    11456\n",
       "0    11456\n",
       "Name: Label, dtype: int64"
      ]
     },
     "execution_count": 4,
     "metadata": {},
     "output_type": "execute_result"
    }
   ],
   "source": [
    "# count for each class in dataset\n",
    "df['Label'].value_counts()"
   ]
  },
  {
   "cell_type": "code",
   "execution_count": 5,
   "metadata": {},
   "outputs": [
    {
     "data": {
      "text/plain": [
       "Sentence    4\n",
       "Label       0\n",
       "dtype: int64"
      ]
     },
     "execution_count": 5,
     "metadata": {},
     "output_type": "execute_result"
    }
   ],
   "source": [
    "#null values\n",
    "df.isnull().sum()"
   ]
  },
  {
   "cell_type": "code",
   "execution_count": 6,
   "metadata": {},
   "outputs": [
    {
     "data": {
      "text/plain": [
       "Sentence    0\n",
       "Label       0\n",
       "dtype: int64"
      ]
     },
     "execution_count": 6,
     "metadata": {},
     "output_type": "execute_result"
    }
   ],
   "source": [
    "#drop null values\n",
    "df.dropna(inplace= True)\n",
    "df.reset_index(drop=True)\n",
    "\n",
    "# count for each class in dataset\n",
    "df.isnull().sum()"
   ]
  },
  {
   "cell_type": "code",
   "execution_count": 7,
   "metadata": {},
   "outputs": [
    {
     "data": {
      "text/plain": [
       "array([[<AxesSubplot:title={'center':'Label'}>]], dtype=object)"
      ]
     },
     "execution_count": 7,
     "metadata": {},
     "output_type": "execute_result"
    },
    {
     "data": {
      "image/png": "[encoded data removed]",
      "text/plain": [
       "<Figure size 432x288 with 1 Axes>"
      ]
     },
     "metadata": {
      "needs_background": "light"
     },
     "output_type": "display_data"
    }
   ],
   "source": [
    "#histogram for value count of each class\n",
    "df.hist(\"Label\")"
   ]
  },
  {
   "cell_type": "code",
   "execution_count": 8,
   "metadata": {
    "scrolled": true
   },
   "outputs": [],
   "source": [
    "tokenizer = nltk.data.load('tokenizers/punkt/english.pickle')   # load tokenizer"
   ]
  },
  {
   "cell_type": "code",
   "execution_count": 9,
   "metadata": {},
   "outputs": [],
   "source": [
    "# split test and train data\n",
    "from sklearn.model_selection import train_test_split\n",
    "\n",
    "X_train, X_test, y_train, y_test = train_test_split(df[\"Sentence\"], df[\"Label\"],\n",
    "                                                        stratify= df[\"Label\"], \n",
    "                                                    test_size=0.25)"
   ]
  },
  {
   "cell_type": "code",
   "execution_count": 10,
   "metadata": {},
   "outputs": [
    {
     "name": "stdout",
     "output_type": "stream",
     "text": [
      "Training set contains 0.499970898085094 Positive values\n"
     ]
    }
   ],
   "source": [
    "#check the split for train\n",
    "n_one_train = sum(y_train == 1)\n",
    "print(f'Training set contains {n_one_train/len(y_train)} Positive values')"
   ]
  },
  {
   "cell_type": "code",
   "execution_count": 11,
   "metadata": {},
   "outputs": [
    {
     "name": "stdout",
     "output_type": "stream",
     "text": [
      "Test set contains 0.499912694255282 positive values\n"
     ]
    }
   ],
   "source": [
    "#check the split for test\n",
    "n_one_test = sum(y_test == 1)\n",
    "print(f'Test set contains {n_one_test/len(y_test)} positive values')"
   ]
  },
  {
   "cell_type": "code",
   "execution_count": 12,
   "metadata": {},
   "outputs": [],
   "source": [
    "# preprocess queries and convert them to list of words\n",
    "def text_to_wordlist(text, remove_stopwords=False):\n",
    "    \"\"\"\n",
    "    Convert a review to a list of words. Removal of stop words is optional.\n",
    "    \n",
    "    \"\"\"\n",
    "    text = text.lower()\n",
    "    \n",
    "    noWhereClauses = re.findall(r\"([0-9]+|[a-zA-Z]+)\\s?\\=\\s?([0-9]+|[a-zA-Z]+)\", text)\n",
    "    # Replace No where Clause\n",
    "    for clause in noWhereClauses:\n",
    "        if clause[0] == clause[1]:\n",
    "            text = text.replace(f\"{clause[0]} = {clause[0]}\", \"NoWhereClause\")\n",
    "            text = text.replace(f\"{clause[0]}={clause[0]}\", \"NoWhereClause\")\n",
    "    \n",
    "    # remove punctuations except '=' sign\n",
    "    remove = string.punctuation\n",
    "    punctuation = remove.replace(\"=\", \"\") # don't remove = sign\n",
    "    punctuation_pattern = r\"[{}]\".format(punctuation) # create the pattern\n",
    "    text = re.sub(punctuation_pattern, \"\", text) \n",
    "    \n",
    "    # To parse http request better \n",
    "    text = text.replace(\"https\", \" https \")\n",
    "    text = text.replace(\"com\", \" com \")\n",
    "    text = text.replace(\"null\", \" null \")\n",
    "    # remove non-letters\n",
    "    text = re.sub(\"[^a-zA-Z]\",\" \", text)\n",
    "    \n",
    "    \n",
    "    # split at whitespace\n",
    "    words = text.split()\n",
    "    \n",
    "    #remove single letter words\n",
    "    for word in words:\n",
    "        if len(word)<2:\n",
    "            words.remove(word)\n",
    "            \n",
    "\n",
    "    # remove stop words \n",
    "    if remove_stopwords:\n",
    "        stops = set(stopwords.words(\"english\"))\n",
    "        words = [w for w in words if not w in stops]\n",
    "\n",
    "    return words"
   ]
  },
  {
   "cell_type": "code",
   "execution_count": 13,
   "metadata": {},
   "outputs": [],
   "source": [
    "# prepare list of words for each query in train data to prepare word2vec model\n",
    "\n",
    "wordToVectData = []  # Initialize an empty list of sentences\n",
    "for text in X_train:\n",
    "    wordToVectData.append(text_to_wordlist(text))"
   ]
  },
  {
   "cell_type": "code",
   "execution_count": 14,
   "metadata": {
    "scrolled": true
   },
   "outputs": [],
   "source": [
    "# train word2vec model\n",
    "model_name = 'word2vec_model'\n",
    "\n",
    "# Set values for various word2vec parameters\n",
    "\n",
    "num_workers = -1       # Number of threads to run in parallel\n",
    "context = 50        # Context window size\n",
    "downsampling = 1e-3   # Downsample setting for frequent words\n",
    "num_features = 300    # Word vector dimensionality                      \n",
    "min_word_count = 20   # Minimum word count                        \n",
    "\n",
    "if not os.path.exists(model_name):  # it loads the existing model on disk, it you change any paramter and train again, \n",
    "                                                                             #delete the save model on disk first\n",
    "        \n",
    "    # Initialize and train the model (this will take some time)\n",
    "    model = word2vec.Word2Vec(wordToVectData, workers=num_workers, \\\n",
    "                size=num_features, min_count = min_word_count, \\\n",
    "                window = context, sample = downsampling)\n",
    "\n",
    "    # If you don't plan to train the model any further, calling \n",
    "    # init_sims will make the model much more memory-efficient.\n",
    "    model.init_sims(replace=True)\n",
    "\n",
    "    # It can be helpful to create a meaningful model name and \n",
    "    # save the model for later use. You can load it later using Word2Vec.load()\n",
    "    model.save(model_name)\n",
    "else:\n",
    "    model = Word2Vec.load(model_name)"
   ]
  },
  {
   "cell_type": "code",
   "execution_count": 15,
   "metadata": {
    "scrolled": true
   },
   "outputs": [
    {
     "data": {
      "text/plain": [
       "(266, 300)"
      ]
     },
     "execution_count": 15,
     "metadata": {},
     "output_type": "execute_result"
    }
   ],
   "source": [
    "model.wv.syn0.shape  # dimentionality of model"
   ]
  },
  {
   "cell_type": "code",
   "execution_count": 16,
   "metadata": {},
   "outputs": [],
   "source": [
    "#Average the word vectors for a set of words\n",
    "\n",
    "def make_feature_wordVec(words, model, num_features):\n",
    "    \n",
    "    feature_vec = np.zeros((num_features,),dtype=\"float32\")  # pre-initialize (for speed)\n",
    "    nwords = 0\n",
    "    index2word_set = set(model.wv.index2word)  # words known to the model\n",
    "\n",
    "    for word in words:\n",
    "        if word in index2word_set: \n",
    "            nwords = nwords + 1\n",
    "            feature_vec = np.add(feature_vec,model.wv[word])\n",
    "    \n",
    "    if nwords > 0:\n",
    "        feature_vec = np.divide(feature_vec, nwords)\n",
    "        \n",
    "    return feature_vec"
   ]
  },
  {
   "cell_type": "code",
   "execution_count": 17,
   "metadata": {},
   "outputs": [],
   "source": [
    "#Calculate average feature vectors for all queries\\\n",
    "\n",
    "def get_avg_feature_wordVecs(queries, model, num_features):\n",
    "  \n",
    "    counter = 0\n",
    "    query_feature_vecs = np.zeros((len(queries),num_features), dtype='float32')  # pre-initialize (for speed)\n",
    "        \n",
    "    for index, query in enumerate(queries):\n",
    "        \n",
    "        query_feature_vecs[index] = make_feature_wordVec(query, model, num_features)\n",
    "        \n",
    "    return query_feature_vecs"
   ]
  },
  {
   "cell_type": "code",
   "execution_count": 18,
   "metadata": {},
   "outputs": [],
   "source": [
    "# calculate average feature vectors for train data\n",
    "\n",
    "clean_train_queries = []\n",
    "for query in X_train:\n",
    "    clean_train_queries.append(text_to_wordlist(query))\n",
    "trainDataVecs = get_avg_feature_wordVecs(clean_train_queries, model, num_features)"
   ]
  },
  {
   "cell_type": "code",
   "execution_count": 19,
   "metadata": {},
   "outputs": [],
   "source": [
    "# calculate average feature vectors for test data\n",
    "\n",
    "clean_test_queries = []\n",
    "for query in X_test:\n",
    "    clean_test_queries.append(text_to_wordlist(query))\n",
    "testDataVecs = get_avg_feature_wordVecs(clean_test_queries, model, num_features)"
   ]
  },
  {
   "cell_type": "code",
   "execution_count": 20,
   "metadata": {},
   "outputs": [
    {
     "data": {
      "text/plain": [
       "SVC(kernel='linear')"
      ]
     },
     "execution_count": 20,
     "metadata": {},
     "output_type": "execute_result"
    }
   ],
   "source": [
    "#Create a svm Classifier\n",
    "clf = svm.SVC(kernel='linear') # Linear Kernel\n",
    "\n",
    "#Train the model using the training sets\n",
    "clf.fit(trainDataVecs, y_train)"
   ]
  },
  {
   "cell_type": "code",
   "execution_count": 21,
   "metadata": {},
   "outputs": [],
   "source": [
    "#Predict the response for test dataset\n",
    "\n",
    "y_pred = clf.predict(testDataVecs)"
   ]
  },
  {
   "cell_type": "code",
   "execution_count": 22,
   "metadata": {},
   "outputs": [
    {
     "name": "stdout",
     "output_type": "stream",
     "text": [
      "Accuracy: 0.9902217565915837\n"
     ]
    }
   ],
   "source": [
    "# Model Accuracy: how often is the classifier correct?\n",
    "\n",
    "print(f\"Accuracy: {metrics.accuracy_score(y_test, y_pred)}\")"
   ]
  },
  {
   "cell_type": "code",
   "execution_count": 23,
   "metadata": {},
   "outputs": [
    {
     "name": "stdout",
     "output_type": "stream",
     "text": [
      "F1 score is: 0.9901719901719902\n"
     ]
    }
   ],
   "source": [
    "#F1 score\n",
    "print(f\"F1 score is: {f1_score(y_test, y_pred)}\")"
   ]
  },
  {
   "cell_type": "code",
   "execution_count": 24,
   "metadata": {},
   "outputs": [
    {
     "name": "stdout",
     "output_type": "stream",
     "text": [
      "              precision    recall  f1-score   support\n",
      "\n",
      "     class 0    0.98548   0.99511   0.99027      2864\n",
      "     class 1    0.99506   0.98533   0.99017      2863\n",
      "\n",
      "    accuracy                        0.99022      5727\n",
      "   macro avg    0.99027   0.99022   0.99022      5727\n",
      "weighted avg    0.99027   0.99022   0.99022      5727\n",
      "\n"
     ]
    }
   ],
   "source": [
    "#classification Report\n",
    "target_names = ['class 0', 'class 1']\n",
    "print(classification_report(y_test, y_pred, target_names=target_names , digits=5))\n"
   ]
  },
  {
   "cell_type": "code",
   "execution_count": 25,
   "metadata": {},
   "outputs": [],
   "source": [
    "#data for confusion matrix\n",
    "\n",
    "data_confusion_matrix = {'y_Actual': y_test , 'y_Predicted': y_pred}\n",
    "df_confusion_marrix = pd.DataFrame(data_confusion_matrix, columns=['y_Actual','y_Predicted'])\n",
    "confusion_matrix = pd.crosstab(df_confusion_marrix['y_Actual'], df_confusion_marrix['y_Predicted'], rownames=['Actual'], colnames=['Predicted'], margins = True)"
   ]
  },
  {
   "cell_type": "code",
   "execution_count": 26,
   "metadata": {},
   "outputs": [
    {
     "data": {
      "image/png": "[encoded data removed]",
      "text/plain": [
       "<Figure size 648x432 with 2 Axes>"
      ]
     },
     "metadata": {},
     "output_type": "display_data"
    }
   ],
   "source": [
    "#Confusion Matrix\n",
    "\n",
    "sns.set(font_scale=1.5)\n",
    "f, ax = plt.subplots(figsize=(9, 6))\n",
    "sns.heatmap(confusion_matrix, annot=True , vmin = 0, vmax = 3000, cmap='Blues', fmt='g',  linewidths=0.2, annot_kws={\"fontsize\":18})\n",
    "plt.savefig('ConfusionMatix.png')\n",
    "plt.show()"
   ]
  },
  {
   "cell_type": "code",
   "execution_count": 27,
   "metadata": {
    "scrolled": true
   },
   "outputs": [
    {
     "data": {
      "text/plain": [
       "<Figure size 432x288 with 0 Axes>"
      ]
     },
     "metadata": {},
     "output_type": "display_data"
    },
    {
     "data": {
      "image/png": "[encoded data removed]",
      "text/plain": [
       "<Figure size 504x288 with 1 Axes>"
      ]
     },
     "metadata": {},
     "output_type": "display_data"
    }
   ],
   "source": [
    "#Roc Curve\n",
    "\n",
    "fpr, tpr, threshold = metrics.roc_curve(y_test, y_pred)\n",
    "roc_auc = metrics.auc(fpr, tpr)\n",
    "lw = 2\n",
    "plt.figure()\n",
    "f, ax = plt.subplots(figsize=(7, 4))\n",
    "plt.plot(fpr, tpr, color='darkorange',\n",
    "         lw=lw, label='ROC curve (AUC = %0.2f)' % roc_auc)\n",
    "plt.plot([0, 1], [0, 1], color='navy', lw=lw, linestyle='--')\n",
    "plt.xlim([0.0, 1.0])\n",
    "plt.ylim([0.0, 1.05])\n",
    "plt.xlabel('（False Positive Rate）')\n",
    "plt.ylabel('（True Positive Rate）')\n",
    "plt.title(' ROC --（Receiver Operating Characteristic curve）')\n",
    "plt.legend(loc=\"lower right\")\n",
    "plt.savefig('roc_auc.png')\n",
    "plt.show()"
   ]
  },
  {
   "cell_type": "code",
   "execution_count": 28,
   "metadata": {},
   "outputs": [
    {
     "name": "stdout",
     "output_type": "stream",
     "text": [
      "TPR is 0.9853300733496333\n"
     ]
    }
   ],
   "source": [
    "print(f\"TPR is {tpr[1]}\")"
   ]
  },
  {
   "cell_type": "code",
   "execution_count": 29,
   "metadata": {},
   "outputs": [
    {
     "name": "stdout",
     "output_type": "stream",
     "text": [
      "FPR is 0.004888268156424581\n"
     ]
    }
   ],
   "source": [
    "print(f\"FPR is {fpr[1]}\")"
   ]
  }
 ],
 "metadata": {
  "kernelspec": {
   "display_name": "Python 3",
   "language": "python",
   "name": "python3"
  },
  "language_info": {
   "codemirror_mode": {
    "name": "ipython",
    "version": 3
   },
   "file_extension": ".py",
   "mimetype": "text/x-python",
   "name": "python",
   "nbconvert_exporter": "python",
   "pygments_lexer": "ipython3",
   "version": "3.7.1"
  }
 },
 "nbformat": 4,
 "nbformat_minor": 4
}
